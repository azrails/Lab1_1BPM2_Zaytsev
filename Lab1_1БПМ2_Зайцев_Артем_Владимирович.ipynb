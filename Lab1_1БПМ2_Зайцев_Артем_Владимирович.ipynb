{
 "cells": [
  {
   "cell_type": "markdown",
   "metadata": {},
   "source": [
    "# Лабораторная работа №1\n",
    "## Выполнил студент группы 1БПМ2 Зайцев Артем Владимирович\n",
    "### Задание №1\n",
    "Описание условия задания"
   ]
  },
  {
   "cell_type": "code",
   "execution_count": null,
   "metadata": {
    "scrolled": true
   },
   "outputs": [],
   "source": [
    "print(\"Hello, World\")"
   ]
  },
  {
   "cell_type": "markdown",
   "metadata": {},
   "source": [
    "### Задание №2\n",
    "описание условия задания\n",
    "Написать генератор случайных матриц(многомерных),который принимает\n",
    "опциональные параметры m, n, min_limit, max_limit,где m и n указывают размер\n",
    "матрицы,а min_lim и max_lim-минимальное и максимальное значения для генерируемого числа."
   ]
  },
  {
   "cell_type": "code",
   "execution_count": 11,
   "metadata": {
    "scrolled": true
   },
   "outputs": [
    {
     "name": "stdout",
     "output_type": "stream",
     "text": [
      "Введите число столбцов : 10\n",
      "Введите число строк : 10\n",
      "Введите минимальное число : 1\n",
      "Введите максимальное число : 10\n",
      "\n",
      "\n",
      "2 7 2 7 4 5 3 4 8 6 \n",
      "\n",
      "5 2 4 10 1 7 1 2 5 10 \n",
      "\n",
      "7 9 9 4 3 1 6 8 3 9 \n",
      "\n",
      "3 4 3 9 6 7 8 6 4 4 \n",
      "\n",
      "5 2 2 1 5 8 4 5 3 2 \n",
      "\n",
      "9 6 9 7 2 2 8 5 7 3 \n",
      "\n",
      "3 2 6 1 3 6 3 7 3 9 \n",
      "\n",
      "5 1 6 6 5 9 3 2 4 1 \n",
      "\n",
      "6 4 5 1 5 7 10 9 10 3 \n",
      "\n",
      "3 4 8 2 2 8 4 8 6 10 "
     ]
    }
   ],
   "source": [
    "import random\n",
    "import time\n",
    "import copy\n",
    "\n",
    "def clone(n, m, array):\n",
    "    new_array = [0] * n\n",
    "    for i in range(n):\n",
    "        new_array[i] = [0] * m\n",
    "        for j in range(m):\n",
    "            new_array[i][j] = array[i][j]\n",
    "    return new_array\n",
    "    \n",
    "def matrix(n, m, max_limit, min_limit):\n",
    "    array = [0] * n\n",
    "    for i in range(n):\n",
    "        array[i] = [0] * m\n",
    "        for j in range(m):\n",
    "            array[i][j] = random.randint(min_limit, max_limit)\n",
    "    return array\n",
    "\n",
    "def is_num(x):\n",
    "    try:\n",
    "        int(x)\n",
    "        return True\n",
    "    except ValueError:\n",
    "        return False\n",
    "    \n",
    "inp = True\n",
    "m = input(\"Введите число столбцов : \")\n",
    "n = input(\"Введите число строк : \")\n",
    "min_limit = input(\"Введите минимальное число : \")\n",
    "max_limit = input(\"Введите максимальное число : \")\n",
    "if (is_num(m) == True and is_num(n) == True and is_num(max_limit) == True and is_num(min_limit) == True):\n",
    "    if (int(max_limit) >= int(min_limit)):\n",
    "        array = matrix(int(n), int(m), int(max_limit), int(min_limit))\n",
    "    else:\n",
    "        array = matrix(int(n), int(m), int(min_limit), int(max_limit),)\n",
    "else:\n",
    "    inp = False\n",
    "    array = matrix(50, 50, 1006, -250)\n",
    "for i in array:\n",
    "    print(\"\\n\")\n",
    "    for j in i:\n",
    "        print(j, end = \" \")\n",
    "if inp == True:\n",
    "    array2 = clone(int(n), int(m), array)\n",
    "    array3 = clone(int(n), int(m), array)\n",
    "    array4 = clone(int(n), int(m), array)\n",
    "    array5 = clone(int(n), int(m), array)\n",
    "else:\n",
    "    array2 = clone(50, 50, array)\n",
    "    array3 = clone(50, 50, array)\n",
    "    array4 = clone(50, 50, array)\n",
    "    array5 = clone(50, 50, array)"
   ]
  },
  {
   "cell_type": "markdown",
   "metadata": {},
   "source": [
    "## "
   ]
  },
  {
   "cell_type": "markdown",
   "metadata": {},
   "source": [
    "### Задание №3\n",
    "описание условия задания\n",
    "Реализовать методы сортировки строк числовой матрицы в соответствии с заданием.\n",
    "Оценить время работы каждого алгоритма сортировки.\n",
    "#### Сортировка выбором"
   ]
  },
  {
   "cell_type": "code",
   "execution_count": 3,
   "metadata": {},
   "outputs": [
    {
     "name": "stdout",
     "output_type": "stream",
     "text": [
      "Время выполнения :  0.000194549560546875\n",
      "\n",
      "\n",
      "90 169 240 340 345 520 529 562 758 785 \n",
      "\n",
      "64 192 268 296 384 491 675 752 767 987 \n",
      "\n",
      "36 174 239 253 326 335 359 473 821 835 \n",
      "\n",
      "43 54 125 186 343 502 787 801 895 953 \n",
      "\n",
      "128 160 254 389 403 458 608 619 703 778 \n",
      "\n",
      "189 309 322 328 441 505 583 622 707 828 \n",
      "\n",
      "267 279 363 394 554 580 684 722 934 993 \n",
      "\n",
      "29 282 308 404 484 709 769 858 887 911 \n",
      "\n",
      "26 164 256 287 329 456 611 662 830 918 \n",
      "\n",
      "218 227 278 336 369 388 415 436 748 778 "
     ]
    }
   ],
   "source": [
    "def selection_sort(array):\n",
    "    for k in array:\n",
    "        n = len(k)\n",
    "        i = 0\n",
    "        while (i < n- 1):\n",
    "            j = i + 1\n",
    "            x = i\n",
    "            while (j < n):\n",
    "                if k[x] > k[j]:\n",
    "                    x = j\n",
    "                j+=1\n",
    "            k[i], k[x] = k[x], k[i]\n",
    "            i+=1\n",
    "    return array\n",
    "\n",
    "stime = time.time()\n",
    "array=selection_sort(array)\n",
    "print(\"Время выполнения : \", time.time() - stime)\n",
    "for i in array:\n",
    "    print(\"\\n\")\n",
    "    for j in i:\n",
    "        print(j, end = \" \")        "
   ]
  },
  {
   "cell_type": "markdown",
   "metadata": {},
   "source": [
    "#### Сортировка вставками"
   ]
  },
  {
   "cell_type": "code",
   "execution_count": 4,
   "metadata": {
    "scrolled": true
   },
   "outputs": [
    {
     "name": "stdout",
     "output_type": "stream",
     "text": [
      "Время выполнения :  0.0001285076141357422\n",
      "\n",
      "\n",
      "90 169 240 340 345 520 529 562 758 785 \n",
      "\n",
      "64 192 268 296 384 491 675 752 767 987 \n",
      "\n",
      "36 174 239 253 326 335 359 473 821 835 \n",
      "\n",
      "43 54 125 186 343 502 787 801 895 953 \n",
      "\n",
      "128 160 254 389 403 458 608 619 703 778 \n",
      "\n",
      "189 309 322 328 441 505 583 622 707 828 \n",
      "\n",
      "267 279 363 394 554 580 684 722 934 993 \n",
      "\n",
      "29 282 308 404 484 709 769 858 887 911 \n",
      "\n",
      "26 164 256 287 329 456 611 662 830 918 \n",
      "\n",
      "218 227 278 336 369 388 415 436 748 778 "
     ]
    }
   ],
   "source": [
    "def insert_sort(array):\n",
    "    for k in array:\n",
    "        for i in range(len(k)):\n",
    "            j = i - 1\n",
    "            key = k[i]\n",
    "            while k[j] > key and j >= 0:\n",
    "                k[j + 1] = k[j]\n",
    "                j-=1\n",
    "            k[j + 1] = key\n",
    "    return array\n",
    "\n",
    "stime = time.time()\n",
    "array2=insert_sort(array2)\n",
    "print(\"Время выполнения : \", time.time() - stime)\n",
    "for i in array2:\n",
    "    print(\"\\n\")\n",
    "    for j in i:\n",
    "        print(j, end = \" \")"
   ]
  },
  {
   "cell_type": "markdown",
   "metadata": {},
   "source": [
    "#### Сортировка обменом"
   ]
  },
  {
   "cell_type": "code",
   "execution_count": 13,
   "metadata": {
    "scrolled": false
   },
   "outputs": [
    {
     "name": "stdout",
     "output_type": "stream",
     "text": [
      "Время выполнения :  0.00017595291137695312\n",
      "\n",
      "\n",
      "2 2 3 4 4 5 6 7 7 8 \n",
      "\n",
      "1 1 2 2 4 5 5 7 10 10 \n",
      "\n",
      "1 3 3 4 6 7 8 9 9 9 \n",
      "\n",
      "3 3 4 4 4 6 6 7 8 9 \n",
      "\n",
      "1 2 2 2 3 4 5 5 5 8 \n",
      "\n",
      "2 2 3 5 6 7 7 8 9 9 \n",
      "\n",
      "1 2 3 3 3 3 6 6 7 9 \n",
      "\n",
      "1 1 2 3 4 5 5 6 6 9 \n",
      "\n",
      "1 3 4 5 5 6 7 9 10 10 \n",
      "\n",
      "2 2 3 4 4 6 8 8 8 10 "
     ]
    }
   ],
   "source": [
    "def bubble_sort(array):\n",
    "    for k in array:\n",
    "        flag = True\n",
    "        while flag:\n",
    "            flag = False\n",
    "            for i in range(len(k) - 1):\n",
    "                if k[i] > k[i + 1]:\n",
    "                    k[i], k[i + 1] = k[i+1], k[i]\n",
    "                    flag = True\n",
    "    return array\n",
    "\n",
    "stime = time.time()\n",
    "array3=bubble_sort(array3)\n",
    "print(\"Время выполнения : \", time.time() - stime)\n",
    "for i in array3:\n",
    "    print(\"\\n\")\n",
    "    for j in i:\n",
    "        print(j, end = \" \")"
   ]
  },
  {
   "cell_type": "markdown",
   "metadata": {},
   "source": [
    "#### Cортировка Шелла"
   ]
  },
  {
   "cell_type": "code",
   "execution_count": 15,
   "metadata": {
    "scrolled": false
   },
   "outputs": [
    {
     "name": "stdout",
     "output_type": "stream",
     "text": [
      "Время выполнения :  0.00014138221740722656\n",
      "\n",
      "\n",
      "2 2 3 4 4 5 6 7 7 8 \n",
      "\n",
      "1 2 3 3 3 3 6 6 7 9 \n",
      "\n",
      "3 3 4 4 4 6 6 7 8 9 \n",
      "\n",
      "2 2 3 4 4 6 8 8 8 10 \n",
      "\n",
      "1 1 2 3 4 5 5 6 6 9 \n",
      "\n",
      "1 2 2 2 3 4 5 5 5 8 \n",
      "\n",
      "1 1 2 2 4 5 5 7 10 10 \n",
      "\n",
      "1 3 4 5 5 6 7 9 10 10 \n",
      "\n",
      "1 3 3 4 6 7 8 9 9 9 \n",
      "\n",
      "2 2 3 5 6 7 7 8 9 9 "
     ]
    }
   ],
   "source": [
    "def shell_sort(array):\n",
    "    for k in array:\n",
    "        x = len(k) // 2\n",
    "        while x:\n",
    "            for i, y in enumerate(k):\n",
    "                while i >= x and k[i - x] > y:\n",
    "                    k[i] = k[i - x]\n",
    "                    i -= x\n",
    "                k[i] = y\n",
    "            x = 1 if x == 2 else int(x * 5.0 / 11)\n",
    "    return array\n",
    "\n",
    "\n",
    "stime = time.time()\n",
    "array4=shell_sort(array4)\n",
    "print(\"Время выполнения : \", time.time() - stime)\n",
    "for i in array4:\n",
    "    print(\"\\n\")\n",
    "    for j in i:\n",
    "        print(j, end = \" \")"
   ]
  },
  {
   "cell_type": "markdown",
   "metadata": {},
   "source": [
    "#### Быстрая сортировка"
   ]
  },
  {
   "cell_type": "code",
   "execution_count": 22,
   "metadata": {},
   "outputs": [
    {
     "name": "stdout",
     "output_type": "stream",
     "text": [
      "Время выполнения :  0.00017690658569335938\n",
      "\n",
      "\n",
      "2 2 3 4 4 5 6 7 7 8 \n",
      "\n",
      "1 1 2 2 4 5 5 7 10 10 \n",
      "\n",
      "1 3 3 4 6 7 8 9 9 9 \n",
      "\n",
      "3 3 4 4 4 6 6 7 8 9 \n",
      "\n",
      "1 2 2 2 3 4 5 5 5 8 \n",
      "\n",
      "2 2 3 5 6 7 7 8 9 9 \n",
      "\n",
      "1 2 3 3 3 3 6 6 7 9 \n",
      "\n",
      "1 1 2 3 4 5 5 6 6 9 \n",
      "\n",
      "1 3 4 5 5 6 7 9 10 10 \n",
      "\n",
      "2 2 3 4 4 6 8 8 8 10 "
     ]
    }
   ],
   "source": [
    "def get_index(array, x, y):\n",
    "    p = array[(x + y) // 2]\n",
    "    i = x - 1\n",
    "    j = y + 1\n",
    "    while True:\n",
    "        i += 1\n",
    "        while array[i] < p:\n",
    "            i += 1\n",
    "        j -= 1\n",
    "        while array[j] > p:\n",
    "            j -= 1\n",
    "        if i >= j:\n",
    "            return j\n",
    "        array[i] , array[j] = array[j], array[i]\n",
    "\n",
    "def sorting(array):\n",
    "    def _quick_sort(array, x, y):\n",
    "        if x < y:\n",
    "            index = get_index(array, x, y)\n",
    "            _quick_sort(array, x, index)\n",
    "            _quick_sort(array, index + 1, y)\n",
    "    _quick_sort(array, 0,len(array) - 1)\n",
    "\n",
    "def quick_sort(array):\n",
    "    for k in array:\n",
    "        sorting(k)\n",
    "    return array\n",
    "    \n",
    "stime = time.time()\n",
    "array5 = quick_sort(array5)\n",
    "print(\"Время выполнения : \", time.time() - stime)\n",
    "for i in array5:\n",
    "    print(\"\\n\")\n",
    "    for j in i:\n",
    "        print(j, end = \" \")"
   ]
  },
  {
   "cell_type": "code",
   "execution_count": null,
   "metadata": {},
   "outputs": [],
   "source": []
  }
 ],
 "metadata": {
  "kernelspec": {
   "display_name": "Python 3",
   "language": "python",
   "name": "python3"
  },
  "language_info": {
   "codemirror_mode": {
    "name": "ipython",
    "version": 3
   },
   "file_extension": ".py",
   "mimetype": "text/x-python",
   "name": "python",
   "nbconvert_exporter": "python",
   "pygments_lexer": "ipython3",
   "version": "3.8.5"
  }
 },
 "nbformat": 4,
 "nbformat_minor": 4
}
